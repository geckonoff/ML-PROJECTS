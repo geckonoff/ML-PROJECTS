{
 "cells": [
  {
   "cell_type": "markdown",
   "metadata": {},
   "source": [
    "## Titanic Binary classification\n",
    "\n",
    "* ### Goal: Predict whether a Titanic passenger will survive based on available data.\n",
    "\n",
    "* ### Task type: Binary classification.\n",
    "\n",
    "* ### Model: Logistic regression."
   ]
  },
  {
   "cell_type": "code",
   "execution_count": 9,
   "metadata": {},
   "outputs": [
    {
     "name": "stdout",
     "output_type": "stream",
     "text": [
      "Embarked\n",
      "S      644\n",
      "C      168\n",
      "Q       77\n",
      "NaN      2\n",
      "Name: count, dtype: int64\n",
      "2\n"
     ]
    }
   ],
   "source": [
    "# Load data from a xls file\n",
    "import pandas as pd\n",
    "import numpy as np\n",
    "import matplotlib.pyplot as plt\n",
    "import seaborn as sns\n",
    "import os\n",
    "\n",
    "# Construct the file path to the parent directory\n",
    "file_path = os.path.join('Titanic-Dataset.xls')\n",
    "\n",
    "# Load the data\n",
    "data = pd.read_csv(file_path)\n",
    "\n",
    "# Print count embarkation with mean nan   \n",
    "print(data['Embarked'].value_counts(dropna=False))\n",
    "print(data['Embarked'].isnull().sum())\n",
    "\n"
   ]
  },
  {
   "cell_type": "code",
   "execution_count": 11,
   "metadata": {},
   "outputs": [
    {
     "name": "stdout",
     "output_type": "stream",
     "text": [
      "                          Class 1    Class 2     Class 3\n",
      "Survived                136.00000  87.000000  119.000000\n",
      "Not Survived             80.00000  97.000000  372.000000\n",
      "Percentage of Survived    0.62963   0.472826    0.242363\n"
     ]
    }
   ],
   "source": [
    "# make dataset Pclass 1 only\n",
    "data_pclass1 = data[data['Pclass'] == 1]\n",
    "data_pclass2 = data[data['Pclass'] == 2]\n",
    "data_pclass3 = data[data['Pclass'] == 3]\n",
    "\n",
    "# divide them on servived and not survived\n",
    "data_pclass1_survived = data_pclass1[data_pclass1['Survived'] == 1]\n",
    "data_pclass1_not_survived = data_pclass1[data_pclass1['Survived'] == 0]\n",
    "data_pclass2_survived = data_pclass2[data_pclass2['Survived'] == 1]\n",
    "data_pclass2_not_survived = data_pclass2[data_pclass2['Survived'] == 0]\n",
    "data_pclass3_survived = data_pclass3[data_pclass3['Survived'] == 1]\n",
    "data_pclass3_not_survived = data_pclass3[data_pclass3['Survived'] == 0]\n",
    "# Make table class 1 class 2 class 3 column and servived and not servived row and the last row is percentage of servived\n",
    "table = pd.DataFrame({'Class 1': [len(data_pclass1_survived), len(data_pclass1_not_survived), len(data_pclass1_survived) / len(data_pclass1)],\n",
    "                      'Class 2': [len(data_pclass2_survived), len(data_pclass2_not_survived), len(data_pclass2_survived) / len(data_pclass2)],\n",
    "                      'Class 3': [len(data_pclass3_survived), len(data_pclass3_not_survived), len(data_pclass3_survived) / len(data_pclass3)]},\n",
    "                     index=['Survived', 'Not Survived', 'Percentage of Survived'])\n",
    "print(table)\n",
    "\n",
    "\n"
   ]
  }
 ],
 "metadata": {
  "kernelspec": {
   "display_name": "Python 3 (ipykernel)",
   "language": "python",
   "name": "python3"
  },
  "language_info": {
   "codemirror_mode": {
    "name": "ipython",
    "version": 3
   },
   "file_extension": ".py",
   "mimetype": "text/x-python",
   "name": "python",
   "nbconvert_exporter": "python",
   "pygments_lexer": "ipython3",
   "version": "3.12.8"
  }
 },
 "nbformat": 4,
 "nbformat_minor": 2
}
